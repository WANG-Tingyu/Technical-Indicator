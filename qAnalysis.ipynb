{
 "cells": [
  {
   "cell_type": "code",
   "execution_count": 1,
   "id": "eb26d430",
   "metadata": {},
   "outputs": [],
   "source": [
    "/ Load the table\n",
    "d:(\"DTSFFFFF\";enlist \",\") 0:`$\"daily.csv\"\n",
    "h:(\"DTSFFFFF\";enlist \",\") 0:`$\"hourly.csv\"\n",
    "d: `sym`date xasc d\n",
    "h: `sym`date`time xasc h\n",
    "\\c 100 1000"
   ]
  },
  {
   "cell_type": "code",
   "execution_count": 2,
   "id": "672e29f7",
   "metadata": {},
   "outputs": [],
   "source": [
    "/Defines functions to calculate moving averages (EMA) and MACD indicators.\n",
    "MA:{[x;n] n mavg x};\n",
    "EMA:{[x;n] ema[2%(n+1);x]};\n",
    "MACD:{[x;nFast;nSlow;nSig] diff:EMA[x;nFast]-EMA[x;nSlow]; sig:EMA[diff;nSig]; diff - sig};\n",
    "\n",
    "cross_signal:{[m]\n",
    "    m: update signalside:?[signal>0;1i;-1i], j:sums 1^i - prev i by sym from m;\n",
    "    m: update signalidx:fills ?[0= deltas signalside;0N;j] by sym from m;\n",
    "    update n:sums abs signalside, signaltime:first time, signalprice:first close by sym,signalidx from m\n",
    "    }; \n",
    " \n",
    "cross_signal_bench:{[m]\n",
    "    r: select from cross_signal[m] where n=1, 1 = abs signalside ;\n",
    "    r: r upsert 0!select by sym from m; \n",
    "    r:update bps:10000*signalside*-1+pxexit%pxenter, nholds:(next j)-j by sym from update pxexit:next pxenter by sym from `sym`time xasc r;\n",
    "    delete from r where null signalside\n",
    "    };"
   ]
  },
  {
   "cell_type": "code",
   "execution_count": 3,
   "id": "29e7c76d",
   "metadata": {},
   "outputs": [],
   "source": [
    "/Defines functions to generate trading signals and calculate performance metrics for EMA and MACD crossover strategies on daily and hourly data.\n",
    "ema_cross_over:{[data; ival; jval]\n",
    "    data: update emaS:EMA[close;ival], emaL:EMA[close;jval] by sym from data;\n",
    "    result: cross_signal_bench[update time:date, signal:emaS-emaL, pxenter:next open by sym from data];\n",
    "    result: update ival:ival,jval:jval from result;\n",
    "    res: select n:count i, avg bps, rtn_sum:sum bps%10000, rtn_prd:-1+prd 1+bps%10000, duration:avg nholds, winpct:(count i where bps>0)%count i,winmax:max bps%10000, maxloss:min bps%10000  by ival, jval, sym from result;\n",
    "    res\n",
    "    }\n",
    "\n",
    "macd_cross_over:{[data; ival; jval; kval]\n",
    "    data: update macd:MACD[close;ival;jval;kval] by sym from data;\n",
    "    result:cross_signal_bench[update time:date, signal:macd, pxenter:next open by sym from data];\n",
    "    result:update ival:ival, jval:jval, kval:kval from result;\n",
    "    res: select n:count i, avg bps, rtn_sum:sum bps%10000, rtn_prd:-1+prd 1+bps%10000, duration:avg nholds, winpct:(count i where bps>0)%count i,winmax:max bps%10000, maxloss:min bps%10000  by ival,jval,kval,sym from result;\n",
    "    res\n",
    "    }"
   ]
  },
  {
   "cell_type": "code",
   "execution_count": 4,
   "id": "08ea6055",
   "metadata": {},
   "outputs": [],
   "source": [
    "ema_cross_over_hourly:{[data; ival; jval]\n",
    "    data: update emaS:EMA[close;ival], emaL:EMA[close;jval] by sym from data;\n",
    "    result: cross_signal_bench[update signal:emaS-emaL, pxenter:next open by sym from data];\n",
    "    result: update ival:ival,jval:jval from result;\n",
    "    res: select n:count i, avg bps, rtn_sum:sum bps%10000, rtn_prd:-1+prd 1+bps%10000, duration:avg nholds, winpct:(count i where bps>0)%count i,winmax:max bps%10000, maxloss:min bps%10000  by ival, jval,sym from result;\n",
    "    res\n",
    "    }\n",
    "\n",
    "macd_cross_over_hourly:{[data; ival; jval; kval]\n",
    "    data: update macd:MACD[close;ival;jval;kval] by sym from data;\n",
    "    result:cross_signal_bench[update signal:macd, pxenter:next open by sym from data];\n",
    "    result:update ival:ival, jval:jval, kval:kval from result;\n",
    "    res: select n:count i, avg bps, rtn_sum:sum bps%10000, rtn_prd:-1+prd 1+bps%10000, duration:avg nholds, winpct:(count i where bps>0)%count i,winmax:max bps%10000, maxloss:min bps%10000  by ival,jval,kval,sym from result;\n",
    "    res\n",
    "    }"
   ]
  },
  {
   "cell_type": "code",
   "execution_count": 6,
   "id": "b0479abc",
   "metadata": {},
   "outputs": [
    {
     "data": {
      "text/plain": [
       "`:ema_daily_res.csv\n"
      ]
     },
     "execution_count": 6,
     "metadata": {},
     "output_type": "execute_result"
    },
    {
     "data": {
      "text/plain": [
       "`:ema_hourly_res.csv\n"
      ]
     },
     "execution_count": 6,
     "metadata": {},
     "output_type": "execute_result"
    }
   ],
   "source": [
    "/Sets up parameter ranges for EMA and MACD strategies\n",
    "/Iterates over the parameter sets and applies the EMA and MACD crossover strategies to daily and hourly data, storing the results.\n",
    "firstPos: 1 + 3 * til 30\n",
    "secondPos: 3 + 3 * til 60\n",
    "\n",
    "ema_params: raze {x,'/:y where x </: y}[;secondPos] each firstPos\n",
    "\n",
    "temp: d\n",
    "ema_daily_res:();\n",
    "counter:0;\n",
    "while[counter < count ema_params;\n",
    "    cur: ema_params[counter];\n",
    "    ival: cur 0;\n",
    "    jval: cur 1;\n",
    "    temp_res: ema_cross_over[temp;ival;jval];\n",
    "    ema_daily_res:: ema_daily_res uj temp_res;\n",
    "    counter+: 1;];\n",
    "\n",
    "temp2: h\n",
    "ema_hourly_res:();\n",
    "counter:0;\n",
    "while[counter < count ema_params;\n",
    "    cur: ema_params[counter];\n",
    "    ival: cur 0;\n",
    "    jval: cur 1;\n",
    "    temp_res: ema_cross_over_hourly[temp2;ival;jval];\n",
    "    ema_hourly_res:: ema_hourly_res uj temp_res;\n",
    "    counter+: 1;];\n",
    "\n",
    "save `ema_daily_res.csv\n",
    "save `ema_hourly_res.csv"
   ]
  },
  {
   "cell_type": "code",
   "execution_count": 7,
   "id": "77668342",
   "metadata": {},
   "outputs": [
    {
     "data": {
      "text/plain": [
       "`:macd_daily_res.csv\n"
      ]
     },
     "execution_count": 7,
     "metadata": {},
     "output_type": "execute_result"
    },
    {
     "data": {
      "text/plain": [
       "`:macd_hourly_res.csv\n"
      ]
     },
     "execution_count": 7,
     "metadata": {},
     "output_type": "execute_result"
    }
   ],
   "source": [
    "firstPos: 5 + til 10;\n",
    "secondPos: 20 + til 11;\n",
    "thirdPos: 5 + til 7;\n",
    "\n",
    "macd_params: firstPos cross secondPos cross thirdPos;\n",
    "\n",
    "temp: d\n",
    "macd_daily_res:();\n",
    "counter:0;\n",
    "while[counter < count macd_params;\n",
    "    cur: macd_params[counter];\n",
    "    ival: cur 0;\n",
    "    jval: cur 1;\n",
    "    kval: cur 2;\n",
    "    temp_res: macd_cross_over[temp;ival;jval;kval];\n",
    "    macd_daily_res:: macd_daily_res uj temp_res;\n",
    "    counter+: 1;];\n",
    "\n",
    "temp2: h\n",
    "macd_hourly_res:();\n",
    "counter:0;\n",
    "while[counter < count macd_params;\n",
    "    cur: macd_params[counter];\n",
    "    ival: cur 0;\n",
    "    jval: cur 1;\n",
    "    kval: cur 2;\n",
    "    temp_res: macd_cross_over_hourly[temp2;ival;jval;kval];\n",
    "    macd_hourly_res:: macd_hourly_res uj temp_res;\n",
    "    counter+: 1;];\n",
    "\n",
    "save `macd_daily_res.csv\n",
    "save `macd_hourly_res.csv"
   ]
  },
  {
   "cell_type": "code",
   "execution_count": 8,
   "id": "8e1fce9c",
   "metadata": {},
   "outputs": [
    {
     "data": {
      "text/plain": [
       "`:ema_daily_res.csv\n"
      ]
     },
     "execution_count": 8,
     "metadata": {},
     "output_type": "execute_result"
    },
    {
     "data": {
      "text/plain": [
       "`:ema_hourly_res.csv\n"
      ]
     },
     "execution_count": 8,
     "metadata": {},
     "output_type": "execute_result"
    },
    {
     "data": {
      "text/plain": [
       "ival jval sym      score_hr \n",
       "----------------------------\n",
       "22   69   BTC/USDT 0.1085098\n",
       "88   180  ETH/USDT 0.3113048\n"
      ]
     },
     "execution_count": 8,
     "metadata": {},
     "output_type": "execute_result"
    },
    {
     "data": {
      "text/plain": [
       "ival jval sym      score_lr  \n",
       "-----------------------------\n",
       "22   69   BTC/USDT 0.03617241\n",
       "88   180  ETH/USDT 0.1037814 \n"
      ]
     },
     "execution_count": 8,
     "metadata": {},
     "output_type": "execute_result"
    },
    {
     "data": {
      "text/plain": [
       "ival jval sym      score_hr  \n",
       "-----------------------------\n",
       "73   108  BTC/USDT 0.03126891\n",
       "88   177  ETH/USDT 0.03550245\n"
      ]
     },
     "execution_count": 8,
     "metadata": {},
     "output_type": "execute_result"
    },
    {
     "data": {
      "text/plain": [
       "ival jval sym      score_lr  \n",
       "-----------------------------\n",
       "73   108  BTC/USDT 0.01042454\n",
       "88   177  ETH/USDT 0.01183545\n"
      ]
     },
     "execution_count": 8,
     "metadata": {},
     "output_type": "execute_result"
    }
   ],
   "source": [
    "/ Updates the ema_daily_res and ema_hourly_res tables with the calculated high-risk (HR) and low-risk (LR) scores for EMA strategy.\n",
    "ema_daily_res: update score_hr:0.3 * bps%10000 + 0.2 * rtn_sum + 0.1 * winpct + 0.3 * winmax + 0.1 * maxloss,\n",
    "                        score_lr:0.1 * bps%10000 + 0.1 * rtn_sum + 0.4 * winpct + 0.1 * winmax + 0.3 * maxloss\n",
    "               from ema_daily_res\n",
    "ema_hourly_res: update score_hr:0.3 * bps%10000 + 0.2 * rtn_sum + 0.1 * winpct + 0.3 * winmax + 0.1 * maxloss,\n",
    "                        score_lr:0.1 * bps%10000 + 0.1 * rtn_sum + 0.4 * winpct + 0.1 * winmax + 0.3 * maxloss\n",
    "               from ema_hourly_res\n",
    "save `ema_daily_res.csv\n",
    "save `ema_hourly_res.csv\n",
    "\n",
    "/Selects the optimal EMA parameter sets for daily and hourly data based on the maximum HR and LR scores.\n",
    "hr_ema_daily: select ival, jval, sym, score_hr from ema_daily_res where score_hr=(max;score_hr) fby sym\n",
    "lr_ema_daily: select ival, jval, sym, score_lr from ema_daily_res where score_lr=(max;score_lr) fby sym\n",
    "hr_ema_hourly: select ival, jval, sym, score_hr from ema_hourly_res where score_hr=(max;score_hr) fby sym\n",
    "lr_ema_hourly: select ival, jval, sym, score_lr from ema_hourly_res where score_lr=(max;score_lr) fby sym\n",
    "\n",
    "hr_ema_daily\n",
    "lr_ema_daily\n",
    "hr_ema_hourly\n",
    "lr_ema_hourly"
   ]
  },
  {
   "cell_type": "code",
   "execution_count": 9,
   "id": "d037a0dd",
   "metadata": {},
   "outputs": [
    {
     "data": {
      "text/plain": [
       "`:macd_daily_res.csv\n"
      ]
     },
     "execution_count": 9,
     "metadata": {},
     "output_type": "execute_result"
    },
    {
     "data": {
      "text/plain": [
       "`:macd_hourly_res.csv\n"
      ]
     },
     "execution_count": 9,
     "metadata": {},
     "output_type": "execute_result"
    },
    {
     "data": {
      "text/plain": [
       "ival jval kval sym      score_hr  \n",
       "----------------------------------\n",
       "11   29   11   ETH/USDT 0.01159892\n",
       "14   26   11   BTC/USDT 0.01156493\n"
      ]
     },
     "execution_count": 9,
     "metadata": {},
     "output_type": "execute_result"
    },
    {
     "data": {
      "text/plain": [
       "ival jval kval sym      score_lr   \n",
       "-----------------------------------\n",
       "11   29   11   ETH/USDT 0.00386651 \n",
       "14   26   11   BTC/USDT 0.003855156\n"
      ]
     },
     "execution_count": 9,
     "metadata": {},
     "output_type": "execute_result"
    },
    {
     "data": {
      "text/plain": [
       "ival jval kval sym      score_hr   \n",
       "-----------------------------------\n",
       "12   24   9    BTC/USDT 0.002525256\n",
       "14   29   10   ETH/USDT 0.001951637\n"
      ]
     },
     "execution_count": 9,
     "metadata": {},
     "output_type": "execute_result"
    },
    {
     "data": {
      "text/plain": [
       "ival jval kval sym      score_lr    \n",
       "------------------------------------\n",
       "12   24   9    BTC/USDT 0.0008418582\n",
       "14   29   10   ETH/USDT 0.0006505996\n"
      ]
     },
     "execution_count": 9,
     "metadata": {},
     "output_type": "execute_result"
    }
   ],
   "source": [
    "/ Updates the macd_daily_res and macd_hourly_res tables with the calculated high-risk (HR) and low-risk (LR) scores for MACD strategy.\n",
    "macd_daily_res: update score_hr:0.3 * bps%10000 + 0.2 * rtn_sum + 0.1 * winpct + 0.3 * winmax + 0.1 * maxloss,\n",
    "                        score_lr:0.1 * bps%10000 + 0.1 * rtn_sum + 0.4 * winpct + 0.1 * winmax + 0.3 * maxloss\n",
    "               from macd_daily_res\n",
    "macd_hourly_res: update score_hr:0.3 * bps%10000 + 0.2 * rtn_sum + 0.1 * winpct + 0.3 * winmax + 0.1 * maxloss,\n",
    "                        score_lr:0.1 * bps%10000 + 0.1 * rtn_sum + 0.4 * winpct + 0.1 * winmax + 0.3 * maxloss\n",
    "               from macd_hourly_res\n",
    "save `macd_daily_res.csv\n",
    "save `macd_hourly_res.csv\n",
    "\n",
    "/Selects the optimal MACD parameter sets for daily and hourly data based on the maximum HR and LR scores.\n",
    "hr_macd_daily: select ival, jval, kval, sym, score_hr from macd_daily_res where score_hr=(max;score_hr) fby sym\n",
    "lr_macd_daily: select ival, jval, kval, sym, score_lr from macd_daily_res where score_lr=(max;score_lr) fby sym\n",
    "hr_macd_daily\n",
    "lr_macd_daily\n",
    "\n",
    "hr_macd_hourly: select ival, jval, kval, sym, score_hr from macd_hourly_res where score_hr=(max;score_hr) fby sym\n",
    "lr_macd_hourly: select ival, jval, kval, sym, score_lr from macd_hourly_res where score_lr=(max;score_lr) fby sym\n",
    "hr_macd_hourly\n",
    "lr_macd_hourly\n"
   ]
  },
  {
   "cell_type": "code",
   "execution_count": 10,
   "id": "71041a9e",
   "metadata": {},
   "outputs": [
    {
     "data": {
      "text/plain": [
       "ival jval sym     | n  bps      rtn_sum  rtn_prd   duration winpct    winmax   maxloss   \n",
       "------------------| ---------------------------------------------------------------------\n",
       "22   69   BTC/USDT| 20 3617.503 6.873256 15.17416  104      0.55      4.385943 -0.4554534\n",
       "22   69   ETH/USDT| 26 4329.71  10.82427 0.6652527 79       0.3076923 10.99666 -0.610821 \n"
      ]
     },
     "execution_count": 10,
     "metadata": {},
     "output_type": "execute_result"
    },
    {
     "data": {
      "text/plain": [
       "ival jval sym     | n  bps       rtn_sum  rtn_prd     duration winpct    winmax   maxloss   \n",
       "------------------| ------------------------------------------------------------------------\n",
       "88   180  BTC/USDT| 16 -216.8667 -0.3253  -0.9890614  135.6667 0.3125    2.399135 -0.9356136\n",
       "88   180  ETH/USDT| 13 10379.51  12.45541 -0.06543847 136.4167 0.2307692 14.29928 -0.5316428\n"
      ]
     },
     "execution_count": 10,
     "metadata": {},
     "output_type": "execute_result"
    },
    {
     "data": {
      "text/plain": [
       "ival jval sym     | n   bps       rtn_sum  rtn_prd   duration winpct    winmax   maxloss  \n",
       "------------------| ----------------------------------------------------------------------\n",
       "73   108  BTC/USDT| 146 1042.615  15.11791 -2.12049  126.5241 0.5547945 2.62585  -1.983777\n",
       "73   108  ETH/USDT| 134 -262.6692 -3.4935  -1.000004 135.4135 0.4925373 3.190109 -2.53862 \n"
      ]
     },
     "execution_count": 10,
     "metadata": {},
     "output_type": "execute_result"
    },
    {
     "data": {
      "text/plain": [
       "ival jval sym     | n   bps      rtn_sum   rtn_prd    duration winpct    winmax   maxloss  \n",
       "------------------| -----------------------------------------------------------------------\n",
       "88   177  BTC/USDT| 104 71.14879 0.7328326 -1         32.84466 0.4615385 1.984156 -1.525214\n",
       "88   177  ETH/USDT| 94  1183.68  11.00822  -0.9977795 181.0108 0.5106383 4.879121 -2.650714\n"
      ]
     },
     "execution_count": 10,
     "metadata": {},
     "output_type": "execute_result"
    }
   ],
   "source": [
    "/ Subsitute EMA optimal parameter sets for daily and hourly data\n",
    "data: d\n",
    "ema_cross_over[data; 22; 69]\n",
    "ema_cross_over[data; 88; 180]\n",
    "\n",
    "data: h\n",
    "ema_cross_over_hourly[data; 73;108]\n",
    "ema_cross_over_hourly[data; 88;177]"
   ]
  },
  {
   "cell_type": "code",
   "execution_count": 11,
   "id": "edff5c12",
   "metadata": {},
   "outputs": [
    {
     "data": {
      "text/plain": [
       "ival jval kval sym     | n   bps      rtn_sum  rtn_prd  duration winpct    winmax   maxloss   \n",
       "-----------------------| ---------------------------------------------------------------------\n",
       "11   29   11   BTC/USDT| 136 317.2111 4.28235  10.54786 15.07407 0.3970588 1.020053 -0.2440921\n",
       "11   29   11   ETH/USDT| 138 386.6722 5.297409 8.06098  14.85401 0.384058  1.101045 -0.5042322\n"
      ]
     },
     "execution_count": 11,
     "metadata": {},
     "output_type": "execute_result"
    },
    {
     "data": {
      "text/plain": [
       "ival jval kval sym     | n   bps      rtn_sum  rtn_prd  duration winpct    winmax   maxloss   \n",
       "-----------------------| ---------------------------------------------------------------------\n",
       "14   26   11   BTC/USDT| 124 385.5347 4.742076 15.98394 16.54472 0.3951613 1.020053 -0.2577632\n",
       "14   26   11   ETH/USDT| 134 336.0538 4.469515 3.262553 15.30075 0.380597  1.071191 -0.5042322\n"
      ]
     },
     "execution_count": 11,
     "metadata": {},
     "output_type": "execute_result"
    },
    {
     "data": {
      "text/plain": [
       "ival jval kval sym     | n    bps      rtn_sum   rtn_prd    duration winpct    winmax    maxloss   \n",
       "-----------------------| --------------------------------------------------------------------------\n",
       "12   24   9    BTC/USDT| 1508 84.19671 12.68844  -0.9948473 12.31719 0.5218833 1.217145  -0.7771998\n",
       "12   24   9    ETH/USDT| 1548 3.065932 0.4742997 -1         12.35553 0.4909561 0.6249045 -1.353218 \n"
      ]
     },
     "execution_count": 11,
     "metadata": {},
     "output_type": "execute_result"
    },
    {
     "data": {
      "text/plain": [
       "ival jval kval sym     | n    bps      rtn_sum   rtn_prd duration winpct    winmax   maxloss   \n",
       "-----------------------| ----------------------------------------------------------------------\n",
       "14   29   10   BTC/USDT| 1314 4.53536  0.5954928 -1      14.39299 0.5053272 1.041285 -0.7557188\n",
       "14   29   10   ETH/USDT| 1290 65.06556 8.386951  -1      14.79131 0.5255814 0.815026 -1.096046 \n"
      ]
     },
     "execution_count": 11,
     "metadata": {},
     "output_type": "execute_result"
    }
   ],
   "source": [
    "/ Subsitute MACD optimal parameter sets for daily and hourly data\n",
    "data: d\n",
    "macd_cross_over[data; 11; 29; 11] /eth\n",
    "macd_cross_over[data; 14; 26; 11] /btc\n",
    "\n",
    "data: h\n",
    "macd_cross_over_hourly[data; 12; 24; 9] /btc\n",
    "macd_cross_over_hourly[data; 14; 29; 10] /eth"
   ]
  },
  {
   "cell_type": "code",
   "execution_count": 12,
   "id": "3b89a5ef",
   "metadata": {},
   "outputs": [
    {
     "data": {
      "text/plain": [
       "sym     | x       \n",
       "--------| --------\n",
       "BTC/USDT| 4.833912\n",
       "ETH/USDT| 4.542152\n"
      ]
     },
     "execution_count": 12,
     "metadata": {},
     "output_type": "execute_result"
    },
    {
     "data": {
      "text/plain": [
       "sym     | x         \n",
       "--------| ----------\n",
       "BTC/USDT| -0.1416338\n",
       "ETH/USDT| 1.265533  \n"
      ]
     },
     "execution_count": 12,
     "metadata": {},
     "output_type": "execute_result"
    }
   ],
   "source": [
    "/benchmark\n",
    "select -1+(last close)% first close by sym from d\n",
    "select -1+(last close)% first close by sym from h"
   ]
  },
  {
   "cell_type": "code",
   "execution_count": 13,
   "id": "2b11293d",
   "metadata": {},
   "outputs": [
    {
     "data": {
      "text/plain": [
       "sym      year| n bps       rtn_sum    rtn_prd    duration winpct    winmax    maxloss    \n",
       "-------------| --------------------------------------------------------------------------\n",
       "BTC/USDT 2017| 4 956.2709  0.3825084  -0.2161549 41.5     0.25      1.204741  -0.4554534 \n",
       "BTC/USDT 2018| 5 225.9281  0.112964   0.02155447 82       0.6       0.3624371 -0.2066578 \n",
       "BTC/USDT 2019| 2 7564.28   1.512856   1.642147   152.5    1         1.421929  0.0909268  \n",
       "BTC/USDT 2020| 3 13963.76  4.189128   3.377839   162.3333 0.3333333 4.385943  -0.1049251 \n",
       "BTC/USDT 2021| 3 1088.366  0.3265098  0.3594819  105      1         0.1775349 0.07164975 \n",
       "BTC/USDT 2022| 2 1746.45   0.34929    0.2845167  146.5    0.5       0.48331   -0.1340201 \n",
       "BTC/USDT 2023| 1           0          0                   0         -0w       0w         \n",
       "ETH/USDT 2017| 6 34.48942  0.02069365 -0.5301304 33.66667 0.1666667 1.231883  -0.5574194 \n",
       "ETH/USDT 2018| 3 1027.263  0.3081788  0.06626164 117.6667 0.3333333 0.6915934 -0.343389  \n",
       "ETH/USDT 2019| 2 3062.396  0.6124793  0.7009192  165.5    1         0.3793344 0.2331449  \n",
       "ETH/USDT 2020| 3 33734.08  10.12022   2.428746   171      0.3333333 10.99666  -0.610821  \n",
       "ETH/USDT 2021| 3 1853.479  0.5560436  0.5693391  95.33333 0.6666667 0.5119533 -0.05932805\n",
       "ETH/USDT 2022| 8 -991.6805 -0.7933444 -0.6368356 36.25    0.125     0.3939666 -0.3160157 \n",
       "ETH/USDT 2023| 1           0          0                   0         -0w       0w         \n"
      ]
     },
     "execution_count": 13,
     "metadata": {},
     "output_type": "execute_result"
    },
    {
     "data": {
      "text/plain": [
       "sym      year| n bps       rtn_sum    rtn_prd    duration winpct    winmax     maxloss   \n",
       "-------------| --------------------------------------------------------------------------\n",
       "BTC/USDT 2017| 4 -1682.573 -0.6730291 -0.7382906 59.75    0.25      0.4480688  -0.7063905\n",
       "BTC/USDT 2018| 3 -365.8953 -0.1097686 -0.1697218 130.6667 0.3333333 0.2641247  -0.2521758\n",
       "BTC/USDT 2019| 2 -977.3006 -0.1954601 -0.2444362 136      0.5       0.144194   -0.3396541\n",
       "BTC/USDT 2020| 3 3260.468  0.9781405  -0.8873715 174      0.3333333 2.399135   -0.9356136\n",
       "BTC/USDT 2021| 2 -3241.334 -0.6482667 -0.5528941 96.5     0         -0.2256964 -0.4225704\n",
       "BTC/USDT 2022| 1 3230.841  0.3230841  0.3230841  417      1         0.3230841  0.3230841 \n",
       "BTC/USDT 2023| 1           0          0                   0         -0w        0w        \n",
       "ETH/USDT 2017| 6 -634.6387 -0.3807832 -0.4268898 50       0.1666667 0.4365521  -0.3081395\n",
       "ETH/USDT 2018| 1 4298.694  0.4298694  0.4298694  349      1         0.4298694  0.4298694 \n",
       "ETH/USDT 2019| 2 -4419.159 -0.8838318 -0.6954036 131.5    0         -0.3590822 -0.5247496\n",
       "ETH/USDT 2020| 3 44300.51  13.29015   2.74411    241.6667 0.3333333 14.29928   -0.5316428\n",
       "ETH/USDT 2022| 1           0          0                   0         -0w        0w        \n"
      ]
     },
     "execution_count": 13,
     "metadata": {},
     "output_type": "execute_result"
    },
    {
     "data": {
      "text/plain": [
       "sym      year| n  bps       rtn_sum     rtn_prd    duration winpct     winmax    maxloss    \n",
       "-------------| -----------------------------------------------------------------------------\n",
       "BTC/USDT 2021| 75 -10.23046 -0.07672848 -0.2784274 120.44   0.24       0.3917736 -0.2048336 \n",
       "BTC/USDT 2022| 66 -70.83834 -0.4675331  -0.4553097 129.0455 0.1969697  0.308368  -0.1066656 \n",
       "BTC/USDT 2023| 5  1231.176  0.4924703   0.5445032  418.25   0.8        0.3648298 0.001508498\n",
       "ETH/USDT 2021| 61 38.70338  0.2360906   -0.2409674 144.9672 0.3278689  0.5352767 -0.1929655 \n",
       "ETH/USDT 2022| 62 64.31356  0.3987441   0.1635483  140.3226 0.3064516  0.3450097 -0.1550517 \n",
       "ETH/USDT 2023| 11 -92.52968 -0.09252968 -0.1242478 167.4    0.09090909 0.2704213 -0.08218828\n"
      ]
     },
     "execution_count": 13,
     "metadata": {},
     "output_type": "execute_result"
    },
    {
     "data": {
      "text/plain": [
       "sym      year| n  bps       rtn_sum    rtn_prd    duration winpct    winmax    maxloss    \n",
       "-------------| ---------------------------------------------------------------------------\n",
       "BTC/USDT 2021| 53 8.140481  0.04314455 -0.215331  178.566  0.245283  0.3848552 -0.1743967 \n",
       "BTC/USDT 2022| 46 -51.73199 -0.2379672 -0.2946208 176.5217 0.2391304 0.284818  -0.1015482 \n",
       "BTC/USDT 2023| 5  546.6988  0.2186795  0.1779998  411.75   0.2       0.3562174 -0.05632491\n",
       "ETH/USDT 2021| 41 346.6377  1.421215   1.537783   222.561  0.3658537 0.4890207 -0.1600295 \n",
       "ETH/USDT 2022| 44 120.4321  0.5299013  0.3519374  191.5682 0.3409091 0.3288623 -0.1348283 \n",
       "ETH/USDT 2023| 9  -166.5928 -0.1332742 -0.1686041 209.25   0.1111111 0.2946482 -0.09975357\n"
      ]
     },
     "execution_count": 13,
     "metadata": {},
     "output_type": "execute_result"
    }
   ],
   "source": [
    "/ define a function to calculate the performance metrics of EMA strategies on a yearly basis.\n",
    "ema_res_by_year:{[data; ival; jval]\n",
    "    data: update emaS:EMA[close;ival], emaL:EMA[close;jval] by sym from data;\n",
    "    result: cross_signal_bench[update time:date, signal:emaS-emaL, pxenter:next open by sym from data];\n",
    "    res: select n:count i, avg bps, rtn_sum:sum bps%10000, rtn_prd:-1+prd 1+bps%10000, duration:avg nholds, winpct:(count i where bps>0)%count i,winmax:max bps%10000, maxloss:min bps%10000  by sym, date.year from result;\n",
    "    res\n",
    "    }\n",
    "data: d\n",
    "ema_res_by_year[data; 22; 69] /btc\n",
    "ema_res_by_year[data; 88; 180] /eth\n",
    "data: h\n",
    "ema_res_by_year[data; 73; 108] /btc\n",
    "ema_res_by_year[data; 88; 177] /eth\n"
   ]
  },
  {
   "cell_type": "code",
   "execution_count": 14,
   "id": "aaf8cf37",
   "metadata": {},
   "outputs": [
    {
     "data": {
      "text/plain": [
       "sym      year| n  bps       rtn_sum    rtn_prd    duration winpct    winmax    maxloss    \n",
       "-------------| ---------------------------------------------------------------------------\n",
       "BTC/USDT 2017| 9  1338.614  1.204752   1.163775   15.88889 0.5555556 1.020053  -0.1809949 \n",
       "BTC/USDT 2018| 23 595.1905  1.368938   1.9728     16.13043 0.5217391 0.4196563 -0.1060576 \n",
       "BTC/USDT 2019| 26 146.2072  0.3801386  0.1526004  14.46154 0.3461538 0.4674527 -0.1677552 \n",
       "BTC/USDT 2020| 16 1116.049  1.785679   2.685641   22.3125  0.4375    0.7218905 -0.2440921 \n",
       "BTC/USDT 2021| 26 -40.72698 -0.1058901 -0.3165204 13.65385 0.2307692 0.3844138 -0.1429166 \n",
       "BTC/USDT 2022| 19 -67.68229 -0.1285964 -0.2296254 19.10526 0.4736842 0.2982719 -0.2577632 \n",
       "BTC/USDT 2023| 5  592.6368  0.2370547  0.1804332  17.5     0.2       0.4086006 -0.06411178\n",
       "ETH/USDT 2017| 9  -757.0366 -0.6813329 -0.6508931 15.44444 0.4444444 0.2982732 -0.5042322 \n",
       "ETH/USDT 2018| 21 653.555   1.372465   1.137423   17.7619  0.3809524 0.7741902 -0.2246523 \n",
       "ETH/USDT 2019| 22 558.4599  1.228612   0.9145576  18.5     0.4090909 1.071191  -0.1898431 \n",
       "ETH/USDT 2020| 26 557.8479  1.450405   1.31457    12.84615 0.2692308 0.6230915 -0.1978334 \n",
       "ETH/USDT 2021| 29 69.22856  0.2007628  -0.2868546 12.41379 0.4137931 0.4890207 -0.4970323 \n",
       "ETH/USDT 2022| 22 326.8651  0.7191032  0.5715261  15.95455 0.4545455 0.5072325 -0.1994019 \n",
       "ETH/USDT 2023| 5  448.7513  0.1795005  0.1502243  17.75    0.2       0.294986  -0.06846893\n"
      ]
     },
     "execution_count": 14,
     "metadata": {},
     "output_type": "execute_result"
    },
    {
     "data": {
      "text/plain": [
       "sym      year| n  bps       rtn_sum    rtn_prd     duration winpct    winmax    maxloss    \n",
       "-------------| ----------------------------------------------------------------------------\n",
       "BTC/USDT 2017| 11 953.834   1.049217   0.8346134   12.90909 0.5454545 1.020053  -0.1809949 \n",
       "BTC/USDT 2018| 25 405.9946  1.014987   1.115673    14.84    0.56      0.4025851 -0.1269641 \n",
       "BTC/USDT 2019| 28 99.18621  0.2777214  0.07773239  13.46429 0.3571429 0.3761979 -0.1677552 \n",
       "BTC/USDT 2020| 18 838.5984  1.509477   1.803888    19.83333 0.4444444 0.7218905 -0.2440921 \n",
       "BTC/USDT 2021| 26 73.35438  0.1907214  -0.0723043  13.65385 0.2307692 0.3844138 -0.1429166 \n",
       "BTC/USDT 2022| 23 18.05533  0.04152725 -0.07064461 15.78261 0.3913043 0.3179349 -0.1536149 \n",
       "BTC/USDT 2023| 5  496.748   0.1986992  0.1419563   17.5     0.2       0.3867603 -0.06516374\n",
       "ETH/USDT 2017| 9  -631.8729 -0.5686856 -0.6149762  15.44444 0.5555556 0.3619895 -0.5042322 \n",
       "ETH/USDT 2018| 21 739.659   1.553284   1.408461    17.71429 0.3809524 0.8935947 -0.2343355 \n",
       "ETH/USDT 2019| 26 602.1658  1.565631   1.642201    15.65385 0.3846154 1.101045  -0.143485  \n",
       "ETH/USDT 2020| 26 571.5099  1.485926   1.40065     12.88462 0.2692308 0.6230915 -0.1978334 \n",
       "ETH/USDT 2021| 29 92.69748  0.2688227  -0.2284684  12.41379 0.4137931 0.4890207 -0.4970323 \n",
       "ETH/USDT 2022| 22 376.0856  0.8273883  0.7624439   15.95455 0.4545455 0.4973143 -0.1994019 \n",
       "ETH/USDT 2023| 5  412.6076  0.1650431  0.1328811   17.75    0.2       0.294986  -0.0760257 \n"
      ]
     },
     "execution_count": 14,
     "metadata": {},
     "output_type": "execute_result"
    },
    {
     "data": {
      "text/plain": [
       "sym      year| n   bps       rtn_sum    rtn_prd    duration winpct    winmax     maxloss    \n",
       "-------------| -----------------------------------------------------------------------------\n",
       "BTC/USDT 2021| 672 11.7267   0.7880345  0.5761896  13.00595 0.3452381 0.1960017  -0.09832867\n",
       "BTC/USDT 2022| 696 -6.619934 -0.4607474 -0.4770086 12.59052 0.3275862 0.1341587  -0.08684862\n",
       "BTC/USDT 2023| 140 5.966479  0.08293406 0.0530874  12.84892 0.3571429 0.09512312 -0.06934332\n",
       "ETH/USDT 2021| 724 5.896151  0.4268813  -0.1026785 12.07182 0.3577348 0.2498475  -0.1603112 \n",
       "ETH/USDT 2022| 692 5.765309  0.3989594  0.05920609 12.66618 0.3482659 0.1740162  -0.1293941 \n",
       "ETH/USDT 2023| 132 7.454662  0.09765608 0.06842903 13.58015 0.3409091 0.07881378 -0.05980583\n"
      ]
     },
     "execution_count": 14,
     "metadata": {},
     "output_type": "execute_result"
    },
    {
     "data": {
      "text/plain": [
       "sym      year| n   bps       rtn_sum     rtn_prd     duration winpct    winmax     maxloss    \n",
       "-------------| -------------------------------------------------------------------------------\n",
       "BTC/USDT 2021| 590 16.38349  0.966626    0.9377983   14.81356 0.3728814 0.1828914  -0.1151185 \n",
       "BTC/USDT 2022| 608 -1.123853 -0.06833026 -0.2191652  14.41447 0.3355263 0.1372285  -0.08684862\n",
       "BTC/USDT 2023| 116 3.058427  0.03517191  0.003853684 15.53043 0.362069  0.09681398 -0.06233469\n",
       "ETH/USDT 2021| 602 18.09483  1.089309    0.758879    14.51827 0.3654485 0.3250727  -0.1489989 \n",
       "ETH/USDT 2022| 564 16.29768  0.9191891   0.7827115   15.54078 0.3652482 0.1992899  -0.1293941 \n",
       "ETH/USDT 2023| 124 -7.896735 -0.09712984 -0.1190481  14.50407 0.3145161 0.07479175 -0.05345256\n"
      ]
     },
     "execution_count": 14,
     "metadata": {},
     "output_type": "execute_result"
    }
   ],
   "source": [
    "/ define a function to calculate the performance metrics of MACD strategies on a yearly basis.\n",
    "macd_res_year:{[data; ival; jval; kval]\n",
    "    data: update macd:MACD[close;ival;jval;kval] by sym from data;\n",
    "    result:cross_signal_bench[update time:date, signal:macd, pxenter:next open by sym from data];\n",
    "    res: select n:count i, avg bps, rtn_sum:sum bps%10000, rtn_prd:-1+prd 1+bps%10000, duration:avg nholds, winpct:(count i where bps>0)%count i,winmax:max bps%10000, maxloss:min bps%10000  by sym, date.year from result;\n",
    "    res\n",
    "    }\n",
    "data: d\n",
    "macd_res_year[data;14; 26; 11] /btc\n",
    "macd_res_year[data;11; 29; 11] /eth\n",
    "data:h\n",
    "macd_res_year[data;12; 24; 9] /btc\n",
    "macd_res_year[data;14; 29; 10] /eth\n"
   ]
  },
  {
   "cell_type": "code",
   "execution_count": 18,
   "id": "8ddfcc1a",
   "metadata": {},
   "outputs": [
    {
     "data": {
      "text/plain": [
       "sym      signalside| n  bps      rtn_sum    rtn_prd    duration winpct    winmax    maxloss   \n",
       "-------------------| -------------------------------------------------------------------------\n",
       "BTC/USDT -1        | 10 572.7529 0.5727529  0.2967847  105.3    0.7       0.48331   -0.4554534\n",
       "BTC/USDT 1         | 10 7000.56  6.300504   11.47251   102.5556 0.4       4.385943  -0.3015673\n",
       "ETH/USDT -1        | 13 -409.462 -0.5323006 -0.7699328 75       0.3076923 0.6915934 -0.610821 \n",
       "ETH/USDT 1         | 13 9463.813 11.35658   6.238114   83.33333 0.3076923 10.99666  -0.343389 \n"
      ]
     },
     "execution_count": 18,
     "metadata": {},
     "output_type": "execute_result"
    },
    {
     "data": {
      "text/plain": [
       "sym      signalside| n bps       rtn_sum   rtn_prd    duration winpct    winmax    maxloss   \n",
       "-------------------| ------------------------------------------------------------------------\n",
       "BTC/USDT -1        | 8 -2704.582 -2.163665 -0.9918358 125.5    0.25      0.3230841 -0.9356136\n",
       "BTC/USDT 1         | 8 2626.236  1.838365  0.3398183  147.2857 0.375     2.399135  -0.4853807\n",
       "ETH/USDT -1        | 7 -1867.902 -1.120741 -0.8190676 100.6667 0.1428571 0.4298694 -0.5316428\n",
       "ETH/USDT 1         | 6 22626.91  13.57615  4.165252   172.1667 0.3333333 14.29928  -0.4774829\n"
      ]
     },
     "execution_count": 18,
     "metadata": {},
     "output_type": "execute_result"
    },
    {
     "data": {
      "text/plain": [
       "sym      signalside| n  bps      rtn_sum    rtn_prd    duration winpct    winmax    maxloss   \n",
       "-------------------| -------------------------------------------------------------------------\n",
       "BTC/USDT -1        | 73 -18.4307 -0.1345441 -0.2901524 137.3425 0.2739726 0.308368  -0.2048336\n",
       "BTC/USDT 1         | 73 11.49346 0.08275289 -0.1448282 127.7361 0.2054795 0.3917736 -0.1057855\n",
       "ETH/USDT -1        | 67 -80.5262 -0.5395255 -0.5666367 135.4776 0.3283582 0.3450097 -0.1929655\n",
       "ETH/USDT 1         | 67 163.9137 1.081831   0.7847358  153.6364 0.2686567 0.5352767 -0.1591493\n"
      ]
     },
     "execution_count": 18,
     "metadata": {},
     "output_type": "execute_result"
    },
    {
     "data": {
      "text/plain": [
       "sym      signalside| n  bps       rtn_sum    rtn_prd     duration winpct    winmax    maxloss    \n",
       "-------------------| ----------------------------------------------------------------------------\n",
       "BTC/USDT -1        | 52 -28.13927 -0.1463242 -0.2938941  194.3654 0.2307692 0.3083305 -0.1743967 \n",
       "BTC/USDT 1         | 52 33.36885  0.1701811  -0.07661142 178.902  0.25      0.3848552 -0.09210318\n",
       "ETH/USDT -1        | 47 18.49287  0.08691647 -0.1486731  195.5745 0.3404255 0.3288623 -0.1600295 \n",
       "ETH/USDT 1         | 47 376.2881  1.730925   2.3506      218.1739 0.3191489 0.4890207 -0.1139241 \n"
      ]
     },
     "execution_count": 18,
     "metadata": {},
     "output_type": "execute_result"
    }
   ],
   "source": [
    "/ define a function to calculate the performance metrics of EMA strategies on a yearly basis.\n",
    "ema_res_by_side:{[data; ival; jval]\n",
    "    data: update emaS:EMA[close;ival], emaL:EMA[close;jval] by sym from data;\n",
    "    result: cross_signal_bench[update time:date, signal:emaS-emaL, pxenter:next open by sym from data];\n",
    "    res: select n:count i, avg bps, rtn_sum:sum bps%10000, rtn_prd:-1+prd 1+bps%10000, duration:avg nholds, winpct:(count i where bps>0)%count i,winmax:max bps%10000, maxloss:min bps%10000  by sym,signalside from result;\n",
    "    res\n",
    "    }\n",
    "data: d\n",
    "ema_res_by_side[data; 22; 69] /btc\n",
    "ema_res_by_side[data; 88; 180] /eth\n",
    "data: h\n",
    "ema_res_by_side[data; 73; 108] /btc\n",
    "ema_res_by_side[data; 88; 177] /eth"
   ]
  },
  {
   "cell_type": "code",
   "execution_count": 21,
   "id": "7704542b",
   "metadata": {},
   "outputs": [
    {
     "data": {
      "text/plain": [
       "sym      signalside| n  bps       rtn_sum    rtn_prd     duration winpct    winmax    maxloss   \n",
       "-------------------| ---------------------------------------------------------------------------\n",
       "BTC/USDT -1        | 62 74.28592  0.4605727  -0.06758649 15.09677 0.3548387 0.4196563 -0.2440921\n",
       "BTC/USDT 1         | 62 701.8858  4.281504   17.21503    18.01639 0.4354839 1.020053  -0.2577632\n",
       "ETH/USDT -1        | 67 -29.29709 -0.1962905 -0.7457758  14.44776 0.3432836 0.520461  -0.5042322\n",
       "ETH/USDT 1         | 67 706.9403  4.665806   15.7669     16.16667 0.4179104 1.071191  -0.2246523\n"
      ]
     },
     "execution_count": 21,
     "metadata": {},
     "output_type": "execute_result"
    },
    {
     "data": {
      "text/plain": [
       "sym      signalside| n  bps      rtn_sum   rtn_prd    duration winpct    winmax    maxloss   \n",
       "-------------------| ------------------------------------------------------------------------\n",
       "BTC/USDT -1        | 68 40.71746 0.2768788 -0.2287825 13.86765 0.3823529 0.4025851 -0.2440921\n",
       "BTC/USDT 1         | 68 597.8316 4.005472  13.97354   16.29851 0.4117647 1.020053  -0.1536149\n",
       "ETH/USDT -1        | 69 25.96208 0.1791383 -0.6286482 13.85507 0.3623188 0.520461  -0.5042322\n",
       "ETH/USDT 1         | 69 752.6869 5.118271  23.39999   15.86765 0.4057971 1.101045  -0.2343355\n"
      ]
     },
     "execution_count": 21,
     "metadata": {},
     "output_type": "execute_result"
    },
    {
     "data": {
      "text/plain": [
       "sym      signalside| n   bps        rtn_sum     rtn_prd    duration winpct    winmax    maxloss    \n",
       "-------------------| ------------------------------------------------------------------------------\n",
       "BTC/USDT -1        | 754 0.05533354 0.004172149 -0.2273483 12.98011 0.3395225 0.1735983 -0.09832867\n",
       "BTC/USDT 1         | 754 5.392417   0.406049    0.1235273  12.61886 0.33687   0.1960017 -0.08684862\n",
       "ETH/USDT -1        | 774 -5.270954  -0.4079718  -0.5638328 12.59044 0.3397933 0.1804444 -0.1489989 \n",
       "ETH/USDT 1         | 774 17.22469   1.331469    1.328205   12.34023 0.3643411 0.2498475 -0.1603112 \n"
      ]
     },
     "execution_count": 21,
     "metadata": {},
     "output_type": "execute_result"
    },
    {
     "data": {
      "text/plain": [
       "sym      signalside| n   bps      rtn_sum    rtn_prd    duration winpct    winmax    maxloss    \n",
       "-------------------| ---------------------------------------------------------------------------\n",
       "BTC/USDT -1        | 657 4.313592 0.283403   0.0329315  14.8691  0.3637747 0.1508403 -0.1151185 \n",
       "BTC/USDT 1         | 657 9.909522 0.6500647  0.4705055  14.51372 0.3455099 0.1828914 -0.08684862\n",
       "ETH/USDT -1        | 645 1.321261 0.08522131 -0.2837319 15.08837 0.3534884 0.2392714 -0.1489989 \n",
       "ETH/USDT 1         | 645 28.35632 1.826147   2.856502   14.84006 0.3674419 0.3250727 -0.1293941 \n"
      ]
     },
     "execution_count": 21,
     "metadata": {},
     "output_type": "execute_result"
    }
   ],
   "source": [
    "/ define a function to calculate the performance metrics of EMA strategies by side.\n",
    "macd_res_side:{[data; ival; jval; kval]\n",
    "    data: update macd:MACD[close;ival;jval;kval] by sym from data;\n",
    "    result:cross_signal_bench[update time:date, signal:macd, pxenter:next open by sym from data];\n",
    "    res: select n:count i, avg bps, rtn_sum:sum bps%10000, rtn_prd:-1+prd 1+bps%10000, duration:avg nholds, winpct:(count i where bps>0)%count i,winmax:max bps%10000, maxloss:min bps%10000  by sym,signalside  from result;\n",
    "    res\n",
    "    }\n",
    "data: d\n",
    "macd_res_side[data;14; 26; 11] /btc\n",
    "macd_res_side[data;11; 29; 11] /eth\n",
    "data:h\n",
    "macd_res_side[data;12; 24; 9] /btc\n",
    "macd_res_side[data;14; 29; 10] /eth"
   ]
  },
  {
   "cell_type": "code",
   "execution_count": null,
   "id": "6cddb879",
   "metadata": {},
   "outputs": [],
   "source": []
  }
 ],
 "metadata": {
  "kernelspec": {
   "display_name": "Q (kdb+)",
   "language": "q",
   "name": "qpk"
  },
  "language_info": {
   "file_extension": ".q",
   "mimetype": "text/x-q",
   "name": "q",
   "version": "4.0"
  }
 },
 "nbformat": 4,
 "nbformat_minor": 5
}
